{
 "cells": [
  {
   "cell_type": "code",
   "execution_count": 2,
   "id": "sacred-malpractice",
   "metadata": {},
   "outputs": [
    {
     "name": "stdout",
     "output_type": "stream",
     "text": [
      "20\n",
      "not prime\n"
     ]
    }
   ],
   "source": [
    "n=int(input())\n",
    "count=2\n",
    "if(n==2):\n",
    "    print(\"is prime\")\n",
    "else:\n",
    "    while(count!=n):\n",
    "        if(n%count==0):\n",
    "            print(\"not prime\")\n",
    "            break\n",
    "        count=count+1\n",
    "    if(count==n):\n",
    "        print(\"is prime\")"
   ]
  },
  {
   "cell_type": "markdown",
   "id": "consecutive-process",
   "metadata": {},
   "source": [
    "### another method"
   ]
  },
  {
   "cell_type": "code",
   "execution_count": 1,
   "id": "cheap-waste",
   "metadata": {},
   "outputs": [
    {
     "name": "stdout",
     "output_type": "stream",
     "text": [
      "3\n",
      "prime no.\n"
     ]
    }
   ],
   "source": [
    "n=int(input())\n",
    "flag=False\n",
    "count=2\n",
    "while(count<n):\n",
    "    if(n%count==0):\n",
    "        flag=True\n",
    "        break\n",
    "    count=count+1\n",
    "    \n",
    "if(flag==True):\n",
    "    print(\"not a prime no\")\n",
    "else:\n",
    "    print(\"prime no.\")"
   ]
  },
  {
   "cell_type": "code",
   "execution_count": 2,
   "id": "typical-solid",
   "metadata": {},
   "outputs": [
    {
     "name": "stdout",
     "output_type": "stream",
     "text": [
      "0\n",
      "1\n",
      "2\n",
      "3\n",
      "4\n",
      "5\n",
      "6\n",
      "7\n",
      "8\n",
      "9\n"
     ]
    }
   ],
   "source": [
    "i=0\n",
    "while i<10:\n",
    "    print(i)\n",
    "    i = i+1"
   ]
  },
  {
   "cell_type": "markdown",
   "id": "suffering-cliff",
   "metadata": {},
   "source": [
    "### all prime no's from 2 to n"
   ]
  },
  {
   "cell_type": "code",
   "execution_count": 5,
   "id": "southern-carnival",
   "metadata": {},
   "outputs": [
    {
     "name": "stdout",
     "output_type": "stream",
     "text": [
      "20\n",
      "2\n",
      "3\n",
      "5\n",
      "7\n",
      "11\n",
      "13\n",
      "17\n",
      "19\n"
     ]
    }
   ],
   "source": [
    "n=int(input())\n",
    "num=3\n",
    "if(n==2):\n",
    "    print(n)\n",
    "else:\n",
    "    print(2)\n",
    "    while(num<=n):\n",
    "        count =2\n",
    "        flag=False\n",
    "        while(count<num):\n",
    "            if(num%count==0):\n",
    "                flag=True\n",
    "                break\n",
    "            count=count+1\n",
    "        if(flag==False):\n",
    "            print(num)\n",
    "        num=num+1"
   ]
  },
  {
   "cell_type": "code",
   "execution_count": 6,
   "id": "cognitive-calgary",
   "metadata": {},
   "outputs": [
    {
     "name": "stdout",
     "output_type": "stream",
     "text": [
      "1\n"
     ]
    },
    {
     "ename": "SyntaxError",
     "evalue": "'break' outside loop (<ipython-input-6-a4332f31aa33>, line 23)",
     "output_type": "error",
     "traceback": [
      "\u001b[1;36m  File \u001b[1;32m\"<ipython-input-6-a4332f31aa33>\"\u001b[1;36m, line \u001b[1;32m23\u001b[0m\n\u001b[1;33m    break\u001b[0m\n\u001b[1;37m    ^\u001b[0m\n\u001b[1;31mSyntaxError\u001b[0m\u001b[1;31m:\u001b[0m 'break' outside loop\n"
     ]
    }
   ],
   "source": [
    "n=int(input())\n",
    "if(n==1):\n",
    "    a=int(input())\n",
    "    b=int(input())\n",
    "    print(a+b)\n",
    "elif(n==2):\n",
    "    a=int(input())\n",
    "    b=int(input())\n",
    "    print(a-b)\n",
    "elif(n==3):\n",
    "    a=int(input())\n",
    "    b=int(input())\n",
    "    print(a*b)\n",
    "elif(n==4):\n",
    "    a=int(input())\n",
    "    b=int(input())\n",
    "    print(a/b)\n",
    "elif(n==5):\n",
    "    a=int(input())\n",
    "    b=int(input())\n",
    "    print(a%b)\n",
    "elif(n==6): \n",
    "    break\n",
    "else:\n",
    "    print(\"Invalid Operation\")\n",
    "    \n",
    "    \n",
    "    # this is giving error because break method can only be used inside a loop and as there is no loop its giving an error"
   ]
  }
 ],
 "metadata": {
  "kernelspec": {
   "display_name": "Python 3",
   "language": "python",
   "name": "python3"
  },
  "language_info": {
   "codemirror_mode": {
    "name": "ipython",
    "version": 3
   },
   "file_extension": ".py",
   "mimetype": "text/x-python",
   "name": "python",
   "nbconvert_exporter": "python",
   "pygments_lexer": "ipython3",
   "version": "3.9.2"
  }
 },
 "nbformat": 4,
 "nbformat_minor": 5
}
