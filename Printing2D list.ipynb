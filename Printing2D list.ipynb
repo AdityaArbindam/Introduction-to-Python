{
 "cells": [
  {
   "cell_type": "markdown",
   "id": "rural-paper",
   "metadata": {},
   "source": [
    "### printing elemts of the list in case you know no.of rows and colums \n",
    "### or if the list is not a jagged list"
   ]
  },
  {
   "cell_type": "code",
   "execution_count": 4,
   "id": "metropolitan-repository",
   "metadata": {},
   "outputs": [
    {
     "name": "stdout",
     "output_type": "stream",
     "text": [
      "1 2 3 4 \n",
      "5 6 7 8 \n",
      "9 10 11 12 \n"
     ]
    }
   ],
   "source": [
    "# for Ex:-\n",
    "\n",
    "li=[[1,2,3,4],[5,6,7,8],[9,10,11,12]]\n",
    "\n",
    "# we now that the list have 3 rows and 4 columns\n",
    "n=3\n",
    "m=4\n",
    "for i in range(n):\n",
    "    for j in range(m):\n",
    "        print(li[i][j],end=' ')\n",
    "    print()"
   ]
  },
  {
   "cell_type": "markdown",
   "id": "romantic-invalid",
   "metadata": {},
   "source": [
    "### If the list is a jagged list"
   ]
  },
  {
   "cell_type": "code",
   "execution_count": 8,
   "id": "greek-bahrain",
   "metadata": {},
   "outputs": [
    {
     "name": "stdout",
     "output_type": "stream",
     "text": [
      "12 11 10 9 \n",
      "5 6 \n",
      "4 7 8 2 1 3 4 \n",
      "100 \n"
     ]
    }
   ],
   "source": [
    "# but the an=bove method fails if the list is a jagged list\n",
    "\n",
    "li1=[[12,11,10,9],[5,6],[4,7,8,2,1,3,4],[100]]  # we can see that the 2-d list it can have any no.of columns in a row\n",
    "\n",
    "# so how to print it beacuse using above method will definetly gives an error as m is not fixed\n",
    "\n",
    "for row in li1:                # this will select the row\n",
    "    for ele in row:           # this will select the element in that row \n",
    "         print(ele,end=' ')\n",
    "    print()\n",
    "\n",
    "\n",
    "\n"
   ]
  },
  {
   "cell_type": "markdown",
   "id": "exempt-deadline",
   "metadata": {},
   "source": [
    "### Concept of join function\n"
   ]
  },
  {
   "cell_type": "code",
   "execution_count": 10,
   "id": "greek-accident",
   "metadata": {},
   "outputs": [
    {
     "data": {
      "text/plain": [
       "'bxcxd'"
      ]
     },
     "execution_count": 10,
     "metadata": {},
     "output_type": "execute_result"
    }
   ],
   "source": [
    "# if you do x.join('bcd') the it will print  \"bxcxd\"  i.e every char of the string \"bcd\" is concatenated to x except the last\n",
    "# last character of the string, here it is d\n",
    "\n",
    "'x'.join('bcd')"
   ]
  },
  {
   "cell_type": "code",
   "execution_count": 12,
   "id": "legendary-liver",
   "metadata": {},
   "outputs": [
    {
     "data": {
      "text/plain": [
       "'babcabd'"
      ]
     },
     "execution_count": 12,
     "metadata": {},
     "output_type": "execute_result"
    }
   ],
   "source": [
    "'ab'.join(\"bcd\")  # b is concate with ab then c id with ab and as d is the last ele so ab is not concatinated with it"
   ]
  },
  {
   "cell_type": "code",
   "execution_count": 19,
   "id": "minus-enlargement",
   "metadata": {},
   "outputs": [
    {
     "data": {
      "text/plain": [
       "'1ab2ab3'"
      ]
     },
     "execution_count": 19,
     "metadata": {},
     "output_type": "execute_result"
    }
   ],
   "source": [
    "\"ab\".join(['1','2','3'])# ab concatednated with list of characters,we cannot concatenate integers with char so the list of chars\n"
   ]
  },
  {
   "cell_type": "markdown",
   "id": "robust-breeding",
   "metadata": {},
   "source": [
    "### now we can use this join function in order to print the list,"
   ]
  },
  {
   "cell_type": "code",
   "execution_count": 22,
   "id": "universal-leone",
   "metadata": {},
   "outputs": [
    {
     "name": "stdout",
     "output_type": "stream",
     "text": [
      "12 11 10 9\n",
      "5 6\n",
      "4 7 8 2 1 3 4\n",
      "100\n"
     ]
    }
   ],
   "source": [
    "li2=[[12,11,10,9],[5,6],[4,7,8,2,1,3,4],[100]] \n",
    "\n",
    "for row in li2:\n",
    "    output=\" \".join([str(ele)for ele in row])   # we are using list comprehension\n",
    "    print(output)\n",
    "    \n",
    "    # In the above line of code we iterate through each row in the li then go to every element in that row then,convert it into\n",
    "    # str and then store it in the list i.e for first row ['12','11','10','9'] \n",
    "    # after that using the join function we will join each ele of the list with a space and store it in output\n",
    "    # so after 1st isteration out output will be 12 11 10 9\n",
    "    "
   ]
  }
 ],
 "metadata": {
  "kernelspec": {
   "display_name": "Python 3",
   "language": "python",
   "name": "python3"
  },
  "language_info": {
   "codemirror_mode": {
    "name": "ipython",
    "version": 3
   },
   "file_extension": ".py",
   "mimetype": "text/x-python",
   "name": "python",
   "nbconvert_exporter": "python",
   "pygments_lexer": "ipython3",
   "version": "3.9.2"
  }
 },
 "nbformat": 4,
 "nbformat_minor": 5
}
