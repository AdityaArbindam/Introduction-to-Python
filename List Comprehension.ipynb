{
 "cells": [
  {
   "cell_type": "code",
   "execution_count": 28,
   "id": "demanding-mailing",
   "metadata": {},
   "outputs": [
    {
     "name": "stdout",
     "output_type": "stream",
     "text": [
      "[1, 4, 9, 16, 25, 36, 6084, 81]\n"
     ]
    }
   ],
   "source": [
    "# suppose you have a list of elements and now you want anothe list by squaring each elements of the current list\n",
    "# generak way to do this is :-\n",
    "\n",
    "li=[1,2,3,4,5,6,78,9]\n",
    "li_new=[]\n",
    "for ele in li:\n",
    "    li_new.append(ele**2)\n",
    "print(li_new)"
   ]
  },
  {
   "cell_type": "code",
   "execution_count": 29,
   "id": "bound-mongolia",
   "metadata": {},
   "outputs": [
    {
     "data": {
      "text/plain": [
       "[1, 4, 9, 16, 25, 36, 6084, 81]"
      ]
     },
     "execution_count": 29,
     "metadata": {},
     "output_type": "execute_result"
    }
   ],
   "source": [
    "# now you can perform all this using a single line\n",
    "\n",
    "li1=[ele**2 for ele in li]  \n",
    "\n",
    "# here the part \"for ele in list \" will traverse through each eleemnt in li and then that element is stored in ele\n",
    "# now ele is squared using \"ele**2\" then this will be stored in list li1\n",
    "li1[:]"
   ]
  },
  {
   "cell_type": "code",
   "execution_count": 9,
   "id": "neural-associate",
   "metadata": {},
   "outputs": [
    {
     "data": {
      "text/plain": [
       "[4, 16, 36, 6084]"
      ]
     },
     "execution_count": 9,
     "metadata": {},
     "output_type": "execute_result"
    }
   ],
   "source": [
    "#suppose you want to a list which have squares fo eleemnts in li who are also even\n",
    "\n",
    "li_square=[ele**2 for ele in li if ele%2==0]\n",
    "li_square"
   ]
  },
  {
   "cell_type": "code",
   "execution_count": 1,
   "id": "exterior-milwaukee",
   "metadata": {},
   "outputs": [
    {
     "data": {
      "text/plain": [
       "[2, 3, 4, 6, 8, 9, 10, 12, 14, 15, 16, 18, 20, 21, 22, 24]"
      ]
     },
     "execution_count": 1,
     "metadata": {},
     "output_type": "execute_result"
    }
   ],
   "source": [
    "# suppose you have a list and you want to create a new list from that containg those elements which multiple of 2 or 3\n",
    "\n",
    "\n",
    "li2=[1,2,3,4,5,6,7,8,9,10,11,12,13,14,15,16,17,18,19,20,21,22,23,24,25]\n",
    "li_multiple=[ele for ele in li2 if ele%2==0 or ele%3==0 ]\n",
    "li_multiple[:]"
   ]
  },
  {
   "cell_type": "code",
   "execution_count": 2,
   "id": "foster-rubber",
   "metadata": {},
   "outputs": [
    {
     "data": {
      "text/plain": [
       "[6, 12, 18, 24]"
      ]
     },
     "execution_count": 2,
     "metadata": {},
     "output_type": "execute_result"
    }
   ],
   "source": [
    "# suppose you have a list and you want to create a new list from that containg those elements which multiple of 2 and 3\n",
    "\n",
    "li_bothmultiple=[ele for ele in li2 if ele%2==0 and ele%3==0]\n",
    "li_bothmultiple[:]\n"
   ]
  },
  {
   "cell_type": "code",
   "execution_count": 16,
   "id": "historical-vector",
   "metadata": {},
   "outputs": [
    {
     "name": "stdout",
     "output_type": "stream",
     "text": [
      "[1, 2, 4, 15, 30, 12]\n"
     ]
    }
   ],
   "source": [
    "# you can also use multiple loops in the list comprehension\n",
    "\n",
    "# now suppose you have two list and you want to amke 3rd list from that where the common elements of list 1and 2 is added to it\n",
    "\n",
    "# in genral you will do:-\n",
    "\n",
    "l1=[1,2,3,7,8,9,5,4,6,15,25,30,12,45,90]\n",
    "l2=[30,12,100,15,14,98,11,1,2,4,60,48,22]\n",
    "l3=[]\n",
    "for ele1 in l1:\n",
    "    for ele2 in l2:\n",
    "        if(ele1==ele2):\n",
    "            l3.append(ele1)\n",
    "print(l3)"
   ]
  },
  {
   "cell_type": "code",
   "execution_count": 18,
   "id": "suspended-regular",
   "metadata": {},
   "outputs": [
    {
     "data": {
      "text/plain": [
       "[1, 2, 4, 15, 30, 12]"
      ]
     },
     "execution_count": 18,
     "metadata": {},
     "output_type": "execute_result"
    }
   ],
   "source": [
    "# how you can do all the above code using list comprehension:-\n",
    "\n",
    "l4=[ele1 for ele1 in l1 for ele2 in l2 if ele1==ele2]\n",
    "l4[:]\n"
   ]
  },
  {
   "cell_type": "markdown",
   "id": "atmospheric-airplane",
   "metadata": {},
   "source": [
    "#### we can see that we have achived the same result using list comprehension using  less lines  then previous code."
   ]
  },
  {
   "cell_type": "markdown",
   "id": "turned-thickness",
   "metadata": {},
   "source": [
    "### Using if else in the list comprehension"
   ]
  },
  {
   "cell_type": "code",
   "execution_count": 19,
   "id": "upset-disabled",
   "metadata": {},
   "outputs": [
    {
     "data": {
      "text/plain": [
       "[1, 4, 3, 7, 64, 9, 5, 16, 36, 15, 25, 900, 144, 45, 8100]"
      ]
     },
     "execution_count": 19,
     "metadata": {},
     "output_type": "execute_result"
    }
   ],
   "source": [
    "# suppose you have an list and you want another list where if an element of l is mutiple of 2 and if not then store it as it is\n",
    "\n",
    "\n",
    "l1=[1,2,3,7,8,9,5,4,6,15,25,30,12,45,90] \n",
    "\n",
    "l5=[ele**2 if ele%2==0 else ele for ele in l1]\n",
    "l5[:]"
   ]
  },
  {
   "cell_type": "code",
   "execution_count": 20,
   "id": "circular-shaft",
   "metadata": {},
   "outputs": [
    {
     "data": {
      "text/plain": [
       "['A', 'd', 'i', 't', 'y', 'a', ' ', 'A', 'r', 'b', 'i', 'n', 'd', 'a', 'm']"
      ]
     },
     "execution_count": 20,
     "metadata": {},
     "output_type": "execute_result"
    }
   ],
   "source": [
    "# you can also perform list comprehension on a string\n",
    "\n",
    "s=\"Aditya Arbindam\"\n",
    "l=[ele for ele in s]\n",
    "l[:]"
   ]
  },
  {
   "cell_type": "code",
   "execution_count": 26,
   "id": "incoming-manhattan",
   "metadata": {},
   "outputs": [
    {
     "name": "stdout",
     "output_type": "stream",
     "text": [
      "[['A', 'd', 'i', 't', 'y', 'a'], ['A', 'r', 'b', 'i', 'n', 'd', 'a', 'm'], ['p', 'r', 'i', 'n', 'c', 'e']]\n"
     ]
    }
   ],
   "source": [
    "# we can also have a 2-d list with list comprehension\n",
    "\n",
    "# now suppose you have a list\n",
    "l6=[\"Aditya\",\"Arbindam\",\"prince\"]\n",
    "\n",
    "# now we will generate a 2-d list with this using a list comprehension\n",
    "\n",
    "l_2dlist=[[i for i in ele]for ele in l6]\n",
    "print(l_2dlist)\n",
    " \n",
    "    \n",
    "# here if we try to understand \"for ele in l6\" will traverse to all ele in l6 then,\n",
    "# \"for i in ele \" will go to each character in ele we have enclosed this in a [] so that it give back a list i.e:-\n",
    "# [i for in ele] will give a list that's why we get output as ['A','d','i','t','y','a'] and so on"
   ]
  }
 ],
 "metadata": {
  "kernelspec": {
   "display_name": "Python 3",
   "language": "python",
   "name": "python3"
  },
  "language_info": {
   "codemirror_mode": {
    "name": "ipython",
    "version": 3
   },
   "file_extension": ".py",
   "mimetype": "text/x-python",
   "name": "python",
   "nbconvert_exporter": "python",
   "pygments_lexer": "ipython3",
   "version": "3.9.2"
  }
 },
 "nbformat": 4,
 "nbformat_minor": 5
}
