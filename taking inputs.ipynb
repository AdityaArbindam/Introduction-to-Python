{
 "cells": [
  {
   "cell_type": "code",
   "execution_count": 2,
   "id": "relative-badge",
   "metadata": {},
   "outputs": [
    {
     "name": "stdout",
     "output_type": "stream",
     "text": [
      "23 \n",
      "34\n"
     ]
    },
    {
     "data": {
      "text/plain": [
       "'23 34'"
      ]
     },
     "execution_count": 2,
     "metadata": {},
     "output_type": "execute_result"
    }
   ],
   "source": [
    "a=input() # this will take input as strings that's why not printing 57 as the sum\n",
    "b=input()\n",
    "a+b"
   ]
  },
  {
   "cell_type": "markdown",
   "id": "chronic-continent",
   "metadata": {},
   "source": [
    "### solution"
   ]
  },
  {
   "cell_type": "code",
   "execution_count": 4,
   "id": "floppy-defense",
   "metadata": {},
   "outputs": [
    {
     "name": "stdout",
     "output_type": "stream",
     "text": [
      "32\n",
      "<class 'int'>\n",
      "32\n"
     ]
    }
   ],
   "source": [
    "a=input()\n",
    "b=int(a)  #converting string to the int type\n",
    "print(type(b))\n",
    "print(b)"
   ]
  },
  {
   "cell_type": "code",
   "execution_count": 6,
   "id": "stylish-shakespeare",
   "metadata": {},
   "outputs": [
    {
     "name": "stdout",
     "output_type": "stream",
     "text": [
      "32\n"
     ]
    },
    {
     "data": {
      "text/plain": [
       "32"
      ]
     },
     "execution_count": 6,
     "metadata": {},
     "output_type": "execute_result"
    }
   ],
   "source": [
    "# or you can directly convert it into the int\n",
    "a=int(input())\n",
    "a"
   ]
  },
  {
   "cell_type": "markdown",
   "id": "experimental-appeal",
   "metadata": {},
   "source": [
    "# adding to no taken from the user"
   ]
  },
  {
   "cell_type": "code",
   "execution_count": 8,
   "id": "better-christmas",
   "metadata": {},
   "outputs": [
    {
     "name": "stdout",
     "output_type": "stream",
     "text": [
      "23\n",
      "34\n",
      "57\n"
     ]
    }
   ],
   "source": [
    "a=int (input())\n",
    "b=int (input())\n",
    "sum=a+b\n",
    "print(sum)  #now this will definetly print 57 not the string '2334'"
   ]
  },
  {
   "cell_type": "code",
   "execution_count": 9,
   "id": "automatic-subscription",
   "metadata": {},
   "outputs": [
    {
     "name": "stdout",
     "output_type": "stream",
     "text": [
      "23\n",
      "34\n",
      "57.0\n"
     ]
    }
   ],
   "source": [
    "a=float(input())\n",
    "b=int(input())\n",
    "sum=a+b\n",
    "print(sum) #the result will also a flosting point no"
   ]
  }
 ],
 "metadata": {
  "kernelspec": {
   "display_name": "Python 3",
   "language": "python",
   "name": "python3"
  },
  "language_info": {
   "codemirror_mode": {
    "name": "ipython",
    "version": 3
   },
   "file_extension": ".py",
   "mimetype": "text/x-python",
   "name": "python",
   "nbconvert_exporter": "python",
   "pygments_lexer": "ipython3",
   "version": "3.9.2"
  }
 },
 "nbformat": 4,
 "nbformat_minor": 5
}
