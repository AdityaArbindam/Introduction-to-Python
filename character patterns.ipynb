{
 "cells": [
  {
   "cell_type": "code",
   "execution_count": 11,
   "id": "better-sheep",
   "metadata": {},
   "outputs": [
    {
     "name": "stdout",
     "output_type": "stream",
     "text": [
      "66\n",
      "A\n"
     ]
    }
   ],
   "source": [
    "print(ord('B'))  #this method will give you the acii value associated with the character\n",
    "print(chr(65))   # this will provide the charcter with this acii value"
   ]
  },
  {
   "cell_type": "markdown",
   "id": "lightweight-scale",
   "metadata": {},
   "source": [
    "### 1 characters "
   ]
  },
  {
   "cell_type": "code",
   "execution_count": 8,
   "id": "legislative-leeds",
   "metadata": {},
   "outputs": [
    {
     "name": "stdout",
     "output_type": "stream",
     "text": [
      "4\n",
      "ABCD\n",
      "ABCD\n",
      "ABCD\n",
      "ABCD\n"
     ]
    }
   ],
   "source": [
    "n=int(input())\n",
    "i=1\n",
    "while(i<=n):    #ord('A') will give you the ascii value of A\n",
    "    j='A'\n",
    "    k=n\n",
    "    while(k>0):\n",
    "        print(j,end='')\n",
    "        k=k-1\n",
    "        j=chr(ord(j)+1)\n",
    "    print()\n",
    "    i=i+1"
   ]
  },
  {
   "cell_type": "markdown",
   "id": "sunset-differential",
   "metadata": {},
   "source": [
    "### 2 character pattern"
   ]
  },
  {
   "cell_type": "code",
   "execution_count": 13,
   "id": "suspected-pontiac",
   "metadata": {},
   "outputs": [
    {
     "name": "stdout",
     "output_type": "stream",
     "text": [
      "4\n",
      "ABCD\n",
      "BCDE\n",
      "CDEF\n",
      "DEFG\n"
     ]
    }
   ],
   "source": [
    "n=int(input())\n",
    "i=1\n",
    "while(i<=n):\n",
    "    j=chr(65+i-1)\n",
    "    k=n\n",
    "    while(k>0):\n",
    "        print(j,end='')\n",
    "        k=k-1\n",
    "        j=chr(ord(j)+1)\n",
    "    print()\n",
    "    i=i+1"
   ]
  }
 ],
 "metadata": {
  "kernelspec": {
   "display_name": "Python 3",
   "language": "python",
   "name": "python3"
  },
  "language_info": {
   "codemirror_mode": {
    "name": "ipython",
    "version": 3
   },
   "file_extension": ".py",
   "mimetype": "text/x-python",
   "name": "python",
   "nbconvert_exporter": "python",
   "pygments_lexer": "ipython3",
   "version": "3.9.2"
  }
 },
 "nbformat": 4,
 "nbformat_minor": 5
}
