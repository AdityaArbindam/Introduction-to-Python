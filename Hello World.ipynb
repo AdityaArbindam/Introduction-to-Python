{
 "cells": [
  {
   "cell_type": "markdown",
   "id": "portuguese-petite",
   "metadata": {},
   "source": [
    "### Print Helloworld"
   ]
  },
  {
   "cell_type": "code",
   "execution_count": 7,
   "id": "middle-accused",
   "metadata": {},
   "outputs": [
    {
     "name": "stdout",
     "output_type": "stream",
     "text": [
      "aditya arbindam\n"
     ]
    },
    {
     "data": {
      "text/plain": [
       "10"
      ]
     },
     "execution_count": 7,
     "metadata": {},
     "output_type": "execute_result"
    }
   ],
   "source": [
    "print(\"aditya arbindam\")\n",
    "10"
   ]
  },
  {
   "cell_type": "markdown",
   "id": "disturbed-criterion",
   "metadata": {},
   "source": [
    "### variable"
   ]
  },
  {
   "cell_type": "code",
   "execution_count": 12,
   "id": "destroyed-function",
   "metadata": {},
   "outputs": [
    {
     "name": "stdout",
     "output_type": "stream",
     "text": [
      "10\n",
      "20\n",
      "30\n"
     ]
    }
   ],
   "source": [
    "a=10\n",
    "print(a)\n",
    "b=20\n",
    "print (b)\n",
    "a+b\n",
    "sum=a+b\n",
    "print (sum)"
   ]
  },
  {
   "cell_type": "code",
   "execution_count": 16,
   "id": "developed-checkout",
   "metadata": {},
   "outputs": [
    {
     "name": "stdout",
     "output_type": "stream",
     "text": [
      "10\n",
      "10\n"
     ]
    }
   ],
   "source": [
    "a_b1=10\n",
    "print(a_b1)\n",
    "_=10\n",
    "print(_)"
   ]
  },
  {
   "cell_type": "markdown",
   "id": "christian-perfume",
   "metadata": {},
   "source": [
    "### assining diffrent data types to variables"
   ]
  },
  {
   "cell_type": "code",
   "execution_count": 21,
   "id": "technical-victorian",
   "metadata": {},
   "outputs": [
    {
     "name": "stdout",
     "output_type": "stream",
     "text": [
      "hello aditya arbindam\n"
     ]
    },
    {
     "data": {
      "text/plain": [
       "str"
      ]
     },
     "execution_count": 21,
     "metadata": {},
     "output_type": "execute_result"
    }
   ],
   "source": [
    "a=10\n",
    "a=20\n",
    "a=\"hello aditya arbindam\"\n",
    "print(a)\n",
    "type(a)"
   ]
  }
 ],
 "metadata": {
  "kernelspec": {
   "display_name": "Python 3",
   "language": "python",
   "name": "python3"
  },
  "language_info": {
   "codemirror_mode": {
    "name": "ipython",
    "version": 3
   },
   "file_extension": ".py",
   "mimetype": "text/x-python",
   "name": "python",
   "nbconvert_exporter": "python",
   "pygments_lexer": "ipython3",
   "version": "3.9.2"
  }
 },
 "nbformat": 4,
 "nbformat_minor": 5
}
