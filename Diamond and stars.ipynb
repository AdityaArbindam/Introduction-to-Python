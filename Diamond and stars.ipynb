{
 "cells": [
  {
   "cell_type": "code",
   "execution_count": 1,
   "id": "needed-oxygen",
   "metadata": {},
   "outputs": [
    {
     "name": "stdout",
     "output_type": "stream",
     "text": [
      "10\n",
      "* \n",
      " * * \n",
      "  * * * \n",
      "   * * * * \n",
      "    * * * * * \n",
      "     * * * * * * \n",
      "   * * * * \n",
      "  * * * \n",
      " * * \n",
      "* \n"
     ]
    }
   ],
   "source": [
    "n= int(input())\n",
    "k=(n//2)+1\n",
    "l=n-k\n",
    "i=1\n",
    "while(k>0):\n",
    "    x=i\n",
    "    j=i-1\n",
    "    while(j>0):\n",
    "        print(\" \",end='')\n",
    "        j=j-1\n",
    "    while(x>0):\n",
    "        print(\"*\",end=' ')\n",
    "        x=x-1\n",
    "    i=i+1\n",
    "    print()\n",
    "    k=k-1\n",
    "while(l>0):\n",
    "    m=l-1\n",
    "    n=m+1\n",
    "    while(m>0):\n",
    "        print(\" \",end='')\n",
    "        m=m-1\n",
    "    while(n>0):\n",
    "        print(\"*\",end=' ')\n",
    "        n=n-1\n",
    "    print()\n",
    "    l=l-1"
   ]
  },
  {
   "cell_type": "code",
   "execution_count": null,
   "id": "hollow-fellowship",
   "metadata": {},
   "outputs": [],
   "source": []
  }
 ],
 "metadata": {
  "kernelspec": {
   "display_name": "Python 3",
   "language": "python",
   "name": "python3"
  },
  "language_info": {
   "codemirror_mode": {
    "name": "ipython",
    "version": 3
   },
   "file_extension": ".py",
   "mimetype": "text/x-python",
   "name": "python",
   "nbconvert_exporter": "python",
   "pygments_lexer": "ipython3",
   "version": "3.9.2"
  }
 },
 "nbformat": 4,
 "nbformat_minor": 5
}
