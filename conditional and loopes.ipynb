{
 "cells": [
  {
   "cell_type": "code",
   "execution_count": 2,
   "id": "recognized-charleston",
   "metadata": {},
   "outputs": [],
   "source": [
    "a= True # t must be in upercase otherwise it will treat it as a string\n",
    "b= False # similarly F must be in upercase"
   ]
  },
  {
   "cell_type": "code",
   "execution_count": 3,
   "id": "elder-plain",
   "metadata": {},
   "outputs": [
    {
     "data": {
      "text/plain": [
       "False"
      ]
     },
     "execution_count": 3,
     "metadata": {},
     "output_type": "execute_result"
    }
   ],
   "source": [
    "a=10\n",
    "b=20\n",
    "a>b  # it will return answer in boolean"
   ]
  },
  {
   "cell_type": "markdown",
   "id": "dental-rendering",
   "metadata": {},
   "source": [
    "#### Relational operators"
   ]
  },
  {
   "cell_type": "code",
   "execution_count": 5,
   "id": "cognitive-cheese",
   "metadata": {},
   "outputs": [
    {
     "name": "stdout",
     "output_type": "stream",
     "text": [
      "False\n",
      "True\n",
      "False\n",
      "True\n",
      "True\n",
      "False\n"
     ]
    }
   ],
   "source": [
    "a=10\n",
    "b=10\n",
    "print(a>b)  # this tells if a is greater then b\n",
    "print(a>=b) # this tells if a is greater then equal to b\n",
    "print(a<b) #  this tells if a is less then b\n",
    "print(a<=b) #   tells if a is less then equal to b\n",
    "print(a==b) #    tells if a is equal to b\n",
    "print(a!=b) #  tells if a is not equal to b\n"
   ]
  },
  {
   "cell_type": "markdown",
   "id": "alive-trinidad",
   "metadata": {},
   "source": [
    "### logical operators"
   ]
  },
  {
   "cell_type": "code",
   "execution_count": 11,
   "id": "stable-opening",
   "metadata": {},
   "outputs": [
    {
     "name": "stdout",
     "output_type": "stream",
     "text": [
      "False\n",
      "True\n",
      "False\n",
      "True\n"
     ]
    }
   ],
   "source": [
    "a=10\n",
    "b=20\n",
    "c1=a>10\n",
    "c2=b>10\n",
    "print(c1)\n",
    "print(c2)\n",
    "r1=c1 and c2  # both c1 and c2 have to be true to return true\n",
    "print(r1)\n",
    "r2=c1  or c2   # any one have to be true\n",
    "print(r2)\n",
    "r3=not(c1)  # negates the output of c1 as c1 is not true the not operator will return true for it"
   ]
  }
 ],
 "metadata": {
  "kernelspec": {
   "display_name": "Python 3",
   "language": "python",
   "name": "python3"
  },
  "language_info": {
   "codemirror_mode": {
    "name": "ipython",
    "version": 3
   },
   "file_extension": ".py",
   "mimetype": "text/x-python",
   "name": "python",
   "nbconvert_exporter": "python",
   "pygments_lexer": "ipython3",
   "version": "3.9.2"
  }
 },
 "nbformat": 4,
 "nbformat_minor": 5
}
