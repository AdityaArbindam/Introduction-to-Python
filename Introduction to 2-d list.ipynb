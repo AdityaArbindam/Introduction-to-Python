{
 "cells": [
  {
   "cell_type": "code",
   "execution_count": 3,
   "id": "developing-jefferson",
   "metadata": {},
   "outputs": [
    {
     "data": {
      "text/plain": [
       "[[1, 2, 3, 4], [5, 6, 7, 8], [3, 10, 11, 12], [13, 14, 15, 16]]"
      ]
     },
     "execution_count": 3,
     "metadata": {},
     "output_type": "execute_result"
    }
   ],
   "source": [
    "li=[[1,2,3,4],[5,6,7,8],[3,10,11,12],[13,14,15,16]]\n",
    "li[:] # printing complete list"
   ]
  },
  {
   "cell_type": "code",
   "execution_count": 4,
   "id": "flush-memphis",
   "metadata": {},
   "outputs": [
    {
     "data": {
      "text/plain": [
       "[[1, 2, 3, 4], [5, 6, 100, 8], [3, 10, 11, 12], [13, 14, 15, 16]]"
      ]
     },
     "execution_count": 4,
     "metadata": {},
     "output_type": "execute_result"
    }
   ],
   "source": [
    "# updating 1 row and 2 column\n",
    "li[1][2]=100\n",
    "li\n",
    "\n",
    "#we can see that the 1st row and 2nd element has been updated because lists are mutable"
   ]
  }
 ],
 "metadata": {
  "kernelspec": {
   "display_name": "Python 3",
   "language": "python",
   "name": "python3"
  },
  "language_info": {
   "codemirror_mode": {
    "name": "ipython",
    "version": 3
   },
   "file_extension": ".py",
   "mimetype": "text/x-python",
   "name": "python",
   "nbconvert_exporter": "python",
   "pygments_lexer": "ipython3",
   "version": "3.9.2"
  }
 },
 "nbformat": 4,
 "nbformat_minor": 5
}
