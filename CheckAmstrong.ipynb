{
 "cells": [
  {
   "cell_type": "code",
   "execution_count": 3,
   "id": "empirical-affair",
   "metadata": {},
   "outputs": [
    {
     "name": "stdout",
     "output_type": "stream",
     "text": [
      "371\n",
      "<class 'int'>\n",
      "true\n"
     ]
    }
   ],
   "source": [
    "n= int(input())\n",
    "# function to chechAmstrong\n",
    "def checkAmstrong(num):\n",
    "    newnum=0\n",
    "    num1=num\n",
    "    count=0\n",
    "    while(num1>0):\n",
    "        count=count+1\n",
    "        num1=num1//10\n",
    "    num2=num\n",
    "    print(type(num2))\n",
    "    while(num>0):\n",
    "        d=num%10\n",
    "        d=(d**count)\n",
    "        newnum=newnum+d\n",
    "        num=num//10\n",
    "    if(newnum==num2):\n",
    "        return True\n",
    "    else:\n",
    "        return False\n",
    "\n",
    "# calling function \n",
    "checkAmstrong(n)\n",
    "if(checkAmstrong):\n",
    "        print(\"true\")\n",
    "else:\n",
    "        print(\"false\")\n",
    "    "
   ]
  }
 ],
 "metadata": {
  "kernelspec": {
   "display_name": "Python 3",
   "language": "python",
   "name": "python3"
  },
  "language_info": {
   "codemirror_mode": {
    "name": "ipython",
    "version": 3
   },
   "file_extension": ".py",
   "mimetype": "text/x-python",
   "name": "python",
   "nbconvert_exporter": "python",
   "pygments_lexer": "ipython3",
   "version": "3.9.2"
  }
 },
 "nbformat": 4,
 "nbformat_minor": 5
}
