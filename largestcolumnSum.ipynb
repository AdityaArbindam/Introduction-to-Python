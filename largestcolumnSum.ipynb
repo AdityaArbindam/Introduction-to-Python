{
 "cells": [
  {
   "cell_type": "code",
   "execution_count": 3,
   "id": "fleet-temperature",
   "metadata": {},
   "outputs": [
    {
     "name": "stdout",
     "output_type": "stream",
     "text": [
      "3 4\n",
      "1 2 3 4\n",
      "5 6 7 8\n",
      "9 10 11 12\n"
     ]
    }
   ],
   "source": [
    "str=input().split()\n",
    "n,m=int(str[0]),int(str[1])\n",
    "\n",
    "li=[[int (j)for j in input().split()]for i in range(n)]"
   ]
  },
  {
   "cell_type": "code",
   "execution_count": 4,
   "id": "promotional-checkout",
   "metadata": {},
   "outputs": [
    {
     "data": {
      "text/plain": [
       "[[1, 2, 3, 4], [5, 6, 7, 8], [9, 10, 11, 12]]"
      ]
     },
     "execution_count": 4,
     "metadata": {},
     "output_type": "execute_result"
    }
   ],
   "source": [
    "li[:]"
   ]
  },
  {
   "cell_type": "code",
   "execution_count": 12,
   "id": "emerging-turkish",
   "metadata": {},
   "outputs": [
    {
     "name": "stdout",
     "output_type": "stream",
     "text": [
      "24\n",
      "3\n"
     ]
    }
   ],
   "source": [
    "# we have taken the mauall input of our list now we will calculate the largest colum sum\n",
    "\n",
    "colsum=0\n",
    "sum=0\n",
    "index=-1\n",
    "for i in range(m):\n",
    "    for j in range(n):\n",
    "        sum=sum+li[j][i]\n",
    "    if(sum>colsum):\n",
    "        colsum=sum\n",
    "        index=i\n",
    "    sum=0\n",
    "print(colsum)\n",
    "print(index)\n"
   ]
  },
  {
   "cell_type": "code",
   "execution_count": 13,
   "id": "distinguished-exclusive",
   "metadata": {},
   "outputs": [
    {
     "name": "stdout",
     "output_type": "stream",
     "text": [
      "24\n",
      "3\n"
     ]
    }
   ],
   "source": [
    "# Another mehod\n",
    "\n",
    "colsum=0\n",
    "sum=0\n",
    "index=-1\n",
    "for i in range(m):  # chooses the column\n",
    "    for ele in li:  # this will choose every element in the list of column\n",
    "        sum+=ele[i]\n",
    "    if(sum>colsum):\n",
    "        colsum=sum\n",
    "        index=i\n",
    "    sum=0\n",
    "print(colsum)\n",
    "print(index)\n"
   ]
  }
 ],
 "metadata": {
  "kernelspec": {
   "display_name": "Python 3",
   "language": "python",
   "name": "python3"
  },
  "language_info": {
   "codemirror_mode": {
    "name": "ipython",
    "version": 3
   },
   "file_extension": ".py",
   "mimetype": "text/x-python",
   "name": "python",
   "nbconvert_exporter": "python",
   "pygments_lexer": "ipython3",
   "version": "3.9.2"
  }
 },
 "nbformat": 4,
 "nbformat_minor": 5
}
