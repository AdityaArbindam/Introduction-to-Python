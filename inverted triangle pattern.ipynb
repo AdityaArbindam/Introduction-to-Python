{
 "cells": [
  {
   "cell_type": "code",
   "execution_count": 1,
   "id": "stuffed-crazy",
   "metadata": {},
   "outputs": [
    {
     "name": "stdout",
     "output_type": "stream",
     "text": [
      "4\n",
      "****\n",
      "***\n",
      "**\n",
      "*\n"
     ]
    }
   ],
   "source": [
    "n=int(input())\n",
    "i=0\n",
    "while(i<n):\n",
    "    j=n-i\n",
    "    while(j>0):\n",
    "        print('*',end='')\n",
    "        j=j-1\n",
    "    print()\n",
    "    i=i+1"
   ]
  },
  {
   "cell_type": "code",
   "execution_count": 2,
   "id": "foreign-parish",
   "metadata": {},
   "outputs": [
    {
     "name": "stdout",
     "output_type": "stream",
     "text": [
      "4\n",
      "4444\n",
      "333\n",
      "22\n",
      "1\n"
     ]
    }
   ],
   "source": [
    "n=int(input())\n",
    "i=1\n",
    "while(i<=n):\n",
    "    k=n-i+1\n",
    "    j=n-i+1\n",
    "    while(j>0):\n",
    "        print(k,end='')\n",
    "        j=j-1\n",
    "    \n",
    "    print()\n",
    "    i=i+1"
   ]
  }
 ],
 "metadata": {
  "kernelspec": {
   "display_name": "Python 3",
   "language": "python",
   "name": "python3"
  },
  "language_info": {
   "codemirror_mode": {
    "name": "ipython",
    "version": 3
   },
   "file_extension": ".py",
   "mimetype": "text/x-python",
   "name": "python",
   "nbconvert_exporter": "python",
   "pygments_lexer": "ipython3",
   "version": "3.9.2"
  }
 },
 "nbformat": 4,
 "nbformat_minor": 5
}
