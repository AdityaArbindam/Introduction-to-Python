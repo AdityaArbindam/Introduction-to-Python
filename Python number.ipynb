{
 "cells": [
  {
   "cell_type": "markdown",
   "id": "vertical-offset",
   "metadata": {},
   "source": [
    "### Python number"
   ]
  },
  {
   "cell_type": "code",
   "execution_count": 3,
   "id": "labeled-hammer",
   "metadata": {},
   "outputs": [
    {
     "name": "stdout",
     "output_type": "stream",
     "text": [
      "10\n",
      "10.222\n",
      "(4+5j)\n",
      "<class 'int'>\n",
      "<class 'float'>\n",
      "<class 'complex'>\n"
     ]
    }
   ],
   "source": [
    "a1=10\n",
    "a2=10.222\n",
    "a3=4+5j\n",
    "print(a1)\n",
    "print(a2)\n",
    "print(a3)\n",
    "print(type(a1))\n",
    "print(type(a2))\n",
    "print(type(a3))\n",
    "\n",
    "\n"
   ]
  },
  {
   "cell_type": "code",
   "execution_count": 18,
   "id": "elect-celebration",
   "metadata": {},
   "outputs": [
    {
     "data": {
      "text/plain": [
       "11"
      ]
     },
     "execution_count": 18,
     "metadata": {},
     "output_type": "execute_result"
    }
   ],
   "source": [
    "a=10\n",
    "a=a+1\n",
    "a"
   ]
  },
  {
   "cell_type": "markdown",
   "id": "anonymous-hollow",
   "metadata": {},
   "source": [
    "### Id function"
   ]
  },
  {
   "cell_type": "code",
   "execution_count": 22,
   "id": "alone-gathering",
   "metadata": {},
   "outputs": [
    {
     "name": "stdout",
     "output_type": "stream",
     "text": [
      "2097522436720\n",
      "2097522436720\n"
     ]
    }
   ],
   "source": [
    "ax=10\n",
    "print(id(a))\n",
    "ax=ax+1\n",
    "print(id(ax)) #here you can see that you are getting diffrent address this shows that a is now pointing to new storage "
   ]
  },
  {
   "cell_type": "code",
   "execution_count": 25,
   "id": "developing-colleague",
   "metadata": {},
   "outputs": [
    {
     "name": "stdout",
     "output_type": "stream",
     "text": [
      "2097522436688\n",
      "2097522436688\n",
      "2097522436720\n"
     ]
    }
   ],
   "source": [
    "a=10\n",
    "b=10\n",
    "print(id(a))\n",
    "print(id(b))\n",
    "#both of them pointing to same storage\n",
    "#but if you now change a=11 then a will start pointing to new storage an b will remain pointing to same storage\n",
    "a=11\n",
    "print(id(a))"
   ]
  },
  {
   "cell_type": "code",
   "execution_count": 26,
   "id": "correct-victim",
   "metadata": {},
   "outputs": [
    {
     "name": "stdout",
     "output_type": "stream",
     "text": [
      "2097522436688\n",
      "2097522436688\n"
     ]
    }
   ],
   "source": [
    "a=10\n",
    "id1=id(a)\n",
    "print(id1)\n",
    "b=a+2-2\n",
    "id2=id(b)\n",
    "print(id2)"
   ]
  }
 ],
 "metadata": {
  "kernelspec": {
   "display_name": "Python 3",
   "language": "python",
   "name": "python3"
  },
  "language_info": {
   "codemirror_mode": {
    "name": "ipython",
    "version": 3
   },
   "file_extension": ".py",
   "mimetype": "text/x-python",
   "name": "python",
   "nbconvert_exporter": "python",
   "pygments_lexer": "ipython3",
   "version": "3.9.2"
  }
 },
 "nbformat": 4,
 "nbformat_minor": 5
}
