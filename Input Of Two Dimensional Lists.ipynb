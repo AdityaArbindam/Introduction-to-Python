{
 "cells": [
  {
   "cell_type": "code",
   "execution_count": 1,
   "id": "industrial-donor",
   "metadata": {},
   "outputs": [
    {
     "name": "stdout",
     "output_type": "stream",
     "text": [
      "3 4 \n",
      "['3', '4']\n",
      "1 2 3 4\n",
      "4 5 6 7\n",
      "7 8 9 10\n"
     ]
    }
   ],
   "source": [
    "# here  we take input as a string then split it and store it in the str\n",
    "\n",
    "str=input().split()                 # taking str input for n rows and m columns\n",
    "print(str)                          # we will see how the string is splited and stored in str\n",
    "\n",
    "n,m=int(str[0]),int(str[1])         # this will take the no.of rows and columns of the 2-D array\n",
    "\n",
    "li=[[int(j) for j in input().split()]for i in range(n)] \n",
    "\n",
    "# this is the list, the above code have two parts a)\"for in in range(n)\" this will iterate through the rows of list.\n",
    "\n",
    "# b)\"[int(j) for j in input().split]\"  this will take inputs in  the ith row, then split it and then convert it into integer and\n",
    "# then store it in the form of list"
   ]
  },
  {
   "cell_type": "code",
   "execution_count": 2,
   "id": "victorian-relevance",
   "metadata": {},
   "outputs": [
    {
     "data": {
      "text/plain": [
       "[[1, 2, 3, 4], [4, 5, 6, 7], [7, 8, 9, 10]]"
      ]
     },
     "execution_count": 2,
     "metadata": {},
     "output_type": "execute_result"
    }
   ],
   "source": [
    "li[:]"
   ]
  },
  {
   "cell_type": "code",
   "execution_count": 6,
   "id": "affiliated-plaintiff",
   "metadata": {},
   "outputs": [
    {
     "name": "stdout",
     "output_type": "stream",
     "text": [
      "3\n",
      "1 2 3\n",
      "3 4\n",
      "5 6 7 8 9\n"
     ]
    }
   ],
   "source": [
    "# you may also have a jagged 2-d list in this we can have any no.of colums in a row, so no need to take no.of colums as theinput\n",
    "n=int(input())\n",
    "li=[[int(i) for i in input().split()] for j in range(n)]"
   ]
  },
  {
   "cell_type": "code",
   "execution_count": 7,
   "id": "nervous-vintage",
   "metadata": {},
   "outputs": [
    {
     "data": {
      "text/plain": [
       "[[1, 2, 3], [3, 4], [5, 6, 7, 8, 9]]"
      ]
     },
     "execution_count": 7,
     "metadata": {},
     "output_type": "execute_result"
    }
   ],
   "source": [
    "li[:]   # we can see that we can have any no.of colums in a row"
   ]
  }
 ],
 "metadata": {
  "kernelspec": {
   "display_name": "Python 3",
   "language": "python",
   "name": "python3"
  },
  "language_info": {
   "codemirror_mode": {
    "name": "ipython",
    "version": 3
   },
   "file_extension": ".py",
   "mimetype": "text/x-python",
   "name": "python",
   "nbconvert_exporter": "python",
   "pygments_lexer": "ipython3",
   "version": "3.9.2"
  }
 },
 "nbformat": 4,
 "nbformat_minor": 5
}
