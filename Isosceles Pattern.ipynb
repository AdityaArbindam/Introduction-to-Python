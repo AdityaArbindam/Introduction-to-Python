{
 "cells": [
  {
   "cell_type": "markdown",
   "id": "swiss-scenario",
   "metadata": {},
   "source": [
    "### pattern 1"
   ]
  },
  {
   "cell_type": "code",
   "execution_count": 1,
   "id": "level-chester",
   "metadata": {},
   "outputs": [
    {
     "name": "stdout",
     "output_type": "stream",
     "text": [
      "4\n",
      "   *\n",
      "  ***\n",
      " *****\n",
      "*******\n"
     ]
    }
   ],
   "source": [
    "n=int(input())\n",
    "i=1\n",
    "while(i<=n):\n",
    "    j=n-i+1\n",
    "    while(j>1):\n",
    "        print(\" \",end='')\n",
    "        j=j-1\n",
    "    k=i\n",
    "    while(k>0):\n",
    "        print(\"*\",end='')\n",
    "        k=k-1\n",
    "    if(i>1):\n",
    "        m=i-1\n",
    "        while(m>0):\n",
    "            print(\"*\",end='')\n",
    "            m=m-1\n",
    "    \n",
    "    print()\n",
    "    i=i+1"
   ]
  },
  {
   "cell_type": "markdown",
   "id": "involved-allergy",
   "metadata": {},
   "source": [
    "### pattern 2\n"
   ]
  },
  {
   "cell_type": "code",
   "execution_count": 8,
   "id": "proved-complaint",
   "metadata": {},
   "outputs": [
    {
     "name": "stdout",
     "output_type": "stream",
     "text": [
      "6\n",
      "1          1\n",
      "12        21\n",
      "123      321\n",
      "1234    4321\n",
      "12345  54321\n",
      "123456654321\n"
     ]
    }
   ],
   "source": [
    "n=int(input())\n",
    "i=1\n",
    "while(i<=n):\n",
    "    j=1\n",
    "    while(j<=i):\n",
    "        print(j,end='')\n",
    "        j=j+1\n",
    "    k=(2*n)-2*i\n",
    "    while(k>0):\n",
    "        print(\" \",end='')\n",
    "        k=k-1\n",
    "    m=i\n",
    "    while(m>0):\n",
    "        print(m,end='')\n",
    "        m=m-1\n",
    "    print()\n",
    "    i=i+1"
   ]
  },
  {
   "cell_type": "markdown",
   "id": "interesting-contents",
   "metadata": {},
   "source": [
    "### Zeros and Stars Pattern\n"
   ]
  },
  {
   "cell_type": "code",
   "execution_count": 9,
   "id": "female-portal",
   "metadata": {},
   "outputs": [
    {
     "name": "stdout",
     "output_type": "stream",
     "text": [
      "5\n",
      "*0000*0000*\n",
      "0*000*000*0\n",
      "00*00*00*00\n",
      "000*0*0*000\n",
      "0000***0000\n"
     ]
    }
   ],
   "source": [
    "n=int(input())\n",
    "i=1\n",
    "while(i<=n):\n",
    "    j=(2*n)+1\n",
    "    p=i\n",
    "    q=(2*n)-i+2\n",
    "    r=n+1\n",
    "    while(j>0):\n",
    "        if(j==p or j==q or j==r):\n",
    "            print(\"*\",end='')\n",
    "        else:\n",
    "            print(\"0\",end='')\n",
    "        j=j-1\n",
    "    \n",
    "    print()\n",
    "    i=i+1"
   ]
  },
  {
   "cell_type": "markdown",
   "id": "surprising-health",
   "metadata": {},
   "source": [
    "### Diamond of stars"
   ]
  },
  {
   "cell_type": "code",
   "execution_count": 10,
   "id": "neutral-typing",
   "metadata": {},
   "outputs": [
    {
     "name": "stdout",
     "output_type": "stream",
     "text": [
      "7\n",
      "   *\n",
      "  ***\n",
      " *****\n",
      "*******\n",
      " *****\n",
      "  ***\n",
      "   *\n"
     ]
    }
   ],
   "source": [
    "n=int(input())\n",
    "i=0\n",
    "m=1\n",
    "while(i<n):\n",
    "    j=(n//2)-i\n",
    "    if(j<0):\n",
    "        j=(-j)\n",
    "    while(j>0):\n",
    "        print(\" \",end='')\n",
    "        j=j-1\n",
    "    if(i<(n//2)+1):\n",
    "        k=(2*i)+1\n",
    "        while(k>0):\n",
    "            print(\"*\",end='')\n",
    "            k=k-1\n",
    "    else:\n",
    "        k=n-2*m\n",
    "        while(k>0):\n",
    "            print(\"*\",end='')\n",
    "            k=k-1\n",
    "        m=m+1\n",
    "    print()\n",
    "    i=i+1"
   ]
  }
 ],
 "metadata": {
  "kernelspec": {
   "display_name": "Python 3",
   "language": "python",
   "name": "python3"
  },
  "language_info": {
   "codemirror_mode": {
    "name": "ipython",
    "version": 3
   },
   "file_extension": ".py",
   "mimetype": "text/x-python",
   "name": "python",
   "nbconvert_exporter": "python",
   "pygments_lexer": "ipython3",
   "version": "3.9.2"
  }
 },
 "nbformat": 4,
 "nbformat_minor": 5
}
