{
 "cells": [
  {
   "cell_type": "code",
   "execution_count": 2,
   "id": "automated-program",
   "metadata": {},
   "outputs": [
    {
     "name": "stdout",
     "output_type": "stream",
     "text": [
      "[1, 2, 3, 4]\n",
      "\n",
      "<class 'list'>\n"
     ]
    }
   ],
   "source": [
    "li=[[1,2,3,4],[5,6,7,8],[9,10,11,12]]   # this a 2-d list with 3 rows and 4 columns\n",
    "\n",
    "# we already know that a 2-d list is a list of lists i.e if you do li[0] it gives 1st list, li[1] gives 2nd list\n",
    "\n",
    "print(li[0])  # this will give the list at the 0th index of li\n",
    "print()\n",
    "print(type(li[0]))  # this shows us that at li[0] a list is stored"
   ]
  },
  {
   "cell_type": "code",
   "execution_count": 3,
   "id": "intensive-rochester",
   "metadata": {},
   "outputs": [
    {
     "data": {
      "text/plain": [
       "3"
      ]
     },
     "execution_count": 3,
     "metadata": {},
     "output_type": "execute_result"
    }
   ],
   "source": [
    "# now if you want to acces the 2nd element of 1st list in li then\n",
    "li[0][2]"
   ]
  },
  {
   "cell_type": "code",
   "execution_count": 4,
   "id": "martial-intervention",
   "metadata": {},
   "outputs": [
    {
     "data": {
      "text/plain": [
       "[[1, 2, 100, 4], [5, 6, 7, 8], [9, 10, 11, 12]]"
      ]
     },
     "execution_count": 4,
     "metadata": {},
     "output_type": "execute_result"
    }
   ],
   "source": [
    "# you can also update any elemnt of the 2-d list as the lists are muttable\n",
    "\n",
    "li[0][2]=100\n",
    "li[:] \n",
    "# we can see the list has been updated "
   ]
  },
  {
   "cell_type": "code",
   "execution_count": 6,
   "id": "attractive-delay",
   "metadata": {},
   "outputs": [
    {
     "name": "stdout",
     "output_type": "stream",
     "text": [
      "1912358707456\n",
      "1912358708416\n",
      "1912358707904\n",
      "1912358707648\n"
     ]
    }
   ],
   "source": [
    "# we know that li contain references to list in it, let's understand it with an example\n",
    "\n",
    "print(id(li))   # reference of li\n",
    "print(id(li[0])) # refrence stored at li[0]\n",
    "print(id(li[1])) # refrence stored at li[1]\n",
    "print(id(li[2])) # refrence stored at li[2]\n"
   ]
  },
  {
   "cell_type": "code",
   "execution_count": 9,
   "id": "comfortable-comment",
   "metadata": {},
   "outputs": [
    {
     "data": {
      "text/plain": [
       "[[1, 2, 100, 4], 'aditya', [9, 10, 11, 12]]"
      ]
     },
     "execution_count": 9,
     "metadata": {},
     "output_type": "execute_result"
    }
   ],
   "source": [
    "# what happens when you modigy a list in a 2d-list as string i.e\n",
    "\n",
    "li[1]=\"aditya\"\n",
    "li[:]\n",
    "\n",
    "# since its now a list of different type so it is not a 2-d list"
   ]
  }
 ],
 "metadata": {
  "kernelspec": {
   "display_name": "Python 3",
   "language": "python",
   "name": "python3"
  },
  "language_info": {
   "codemirror_mode": {
    "name": "ipython",
    "version": 3
   },
   "file_extension": ".py",
   "mimetype": "text/x-python",
   "name": "python",
   "nbconvert_exporter": "python",
   "pygments_lexer": "ipython3",
   "version": "3.9.2"
  }
 },
 "nbformat": 4,
 "nbformat_minor": 5
}
