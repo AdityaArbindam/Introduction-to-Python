{
 "cells": [
  {
   "cell_type": "code",
   "execution_count": 1,
   "id": "spanish-sapphire",
   "metadata": {},
   "outputs": [
    {
     "name": "stdout",
     "output_type": "stream",
     "text": [
      "3 4\n",
      "\n",
      "['3', '4']\n",
      "1 2 3 4 5 6 7 8 9 10 11 12\n"
     ]
    }
   ],
   "source": [
    "str=input().split()\n",
    "print()\n",
    "print(str)\n",
    "n,m=int(str[0]),int(str[1])\n",
    "\n",
    "# we already know that the 1st line take no.of rows and columns as a string then split them and store it in str\n",
    "# in second line str[0] is assinged to n and str[1] is assinged to m\n",
    "\n",
    "b=input().split()\n",
    "li=[[int(b[m*i+j]) for j in range(m)] for i in range(n)]\n",
    "\n",
    "# here \"for i in range(n) will iterate through rows\" then \"for j in range(m)\" will iterate through colums\n",
    "\n",
    "# after this we have i and j and then we caluculate b which is \"m*i+j\" this will tell the position of that element in list\n",
    "\n",
    "# then that b is converted into integer and stored in list"
   ]
  },
  {
   "cell_type": "code",
   "execution_count": 2,
   "id": "endless-smith",
   "metadata": {},
   "outputs": [
    {
     "data": {
      "text/plain": [
       "[[1, 2, 3, 4], [5, 6, 7, 8], [9, 10, 11, 12]]"
      ]
     },
     "execution_count": 2,
     "metadata": {},
     "output_type": "execute_result"
    }
   ],
   "source": [
    "li[:]"
   ]
  },
  {
   "cell_type": "markdown",
   "id": "proved-asbestos",
   "metadata": {},
   "source": [
    "### there may be a case in which the no.of rows and columns + elemnts of the string are given in same line\n",
    "### then how to proceed?"
   ]
  },
  {
   "cell_type": "code",
   "execution_count": 5,
   "id": "involved-advocate",
   "metadata": {},
   "outputs": [
    {
     "name": "stdout",
     "output_type": "stream",
     "text": [
      "3 4 1 2 3 4 5 6 7 8 9 10 11 12\n",
      "['3', '4', '1', '2', '3', '4', '5', '6', '7', '8', '9', '10', '11', '12']\n",
      "['1', '2', '3', '4', '5', '6', '7', '8', '9', '10', '11', '12']\n"
     ]
    },
    {
     "data": {
      "text/plain": [
       "[[1, 2, 3, 4], [5, 6, 7, 8], [9, 10, 11, 12]]"
      ]
     },
     "execution_count": 5,
     "metadata": {},
     "output_type": "execute_result"
    }
   ],
   "source": [
    "str1=input().split()    # this will take input as a string of rows and columns and all the elemnts in l=one line then split them\n",
    "\n",
    "print(str1)            # this shows how each element of the string is stored in str after split\n",
    "\n",
    "n,m=int(str1[0]),int(str1[1])  # str1[0] ans str1[1] is converted into integer and stored in to n,m\n",
    "\n",
    "b=str1[2:]                # this means all the element from 2 in the str is stored in b as a list\n",
    "\n",
    "print(b[:])               # shows you the elemts of b\n",
    "\n",
    "li1=[[int(b[m*i+j])for j in range(m)] for i in range(n)]\n",
    "li1[:]"
   ]
  }
 ],
 "metadata": {
  "kernelspec": {
   "display_name": "Python 3",
   "language": "python",
   "name": "python3"
  },
  "language_info": {
   "codemirror_mode": {
    "name": "ipython",
    "version": 3
   },
   "file_extension": ".py",
   "mimetype": "text/x-python",
   "name": "python",
   "nbconvert_exporter": "python",
   "pygments_lexer": "ipython3",
   "version": "3.9.2"
  }
 },
 "nbformat": 4,
 "nbformat_minor": 5
}
